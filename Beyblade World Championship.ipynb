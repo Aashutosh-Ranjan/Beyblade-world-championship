{
 "cells": [
  {
   "cell_type": "code",
   "execution_count": 1,
   "metadata": {},
   "outputs": [
    {
     "name": "stdout",
     "output_type": "stream",
     "text": [
      "Enter an integer for the no of players for the fight in the range of 1 to 1e5 => 10\n",
      "Enter integers for the strength of 10 members of your team_G in the range of 1 to 1e5 in space separated format 3 6 7 5 3 5 6 2 9 1\n",
      "Enter integers for the strength of 10 members of opponent team in the range of 1 to 1e5 in space separated format 2 7 0 9 3 6 0 6 2 6\n"
     ]
    },
    {
     "data": {
      "text/plain": [
       "7"
      ]
     },
     "execution_count": 1,
     "metadata": {},
     "output_type": "execute_result"
    }
   ],
   "source": [
    "from decimal import  Decimal\n",
    "def beyblade():\n",
    "    while(True):\n",
    "        no_players=input(\"Enter an integer for the no of players for the fight in the range of 1 to 1e5 => \")\n",
    "        try:\n",
    "            no_players=Decimal(no_players)\n",
    "            if(no_players!=int(no_players) or no_players < 1  or  no_players > 1e5):\n",
    "                continue\n",
    "            break\n",
    "        except:\n",
    "            continue\n",
    "    no_players=int(no_players)    \n",
    "    while(True):\n",
    "        team_G = input(f\"Enter integers for the strength of {no_players} members of your team_G in the range of 1 to 1e5 in space separated format \")\n",
    "        team_G = team_G.split()\n",
    "        if(len(team_G)!=no_players):\n",
    "            continue\n",
    "        each_g_list=[]\n",
    "        for i in range(no_players):\n",
    "            \n",
    "            try:\n",
    "                each_g=Decimal(team_G[i])\n",
    "                if(each_g!=int(each_g) or each_g < 0  or  each_g > 1e5):\n",
    "                    break\n",
    "                each_g_list.append(int(each_g))\n",
    "            except:\n",
    "                break\n",
    "        if len(each_g_list)!=no_players:\n",
    "            continue\n",
    "        else:\n",
    "            break\n",
    "        \n",
    "    while(True):\n",
    "        team_o = input(f\"Enter integers for the strength of {no_players} members of opponent team in the range of 1 to 1e5 in space separated format \")\n",
    "        team_o = team_o.split()\n",
    "        if(len(team_o)!=no_players):\n",
    "            print('a')\n",
    "            continue\n",
    "        each_o_list=[]\n",
    "        for i in range(no_players):\n",
    "            \n",
    "            try:\n",
    "                each_o=Decimal(team_o[i])\n",
    "                if(each_o!=int(each_o) or each_o < 0  or  each_o > 1e5):\n",
    "                    break\n",
    "                each_o_list.append(int(each_o))\n",
    "            except:\n",
    "                break\n",
    "        if len(each_o_list)!=no_players:\n",
    "            print('b',each_o_list,no_players,team_o)\n",
    "            continue\n",
    "        else:\n",
    "            break\n",
    "    each_g_list.sort()\n",
    "    each_o_list.sort()\n",
    "    wins=0\n",
    "    for i in each_o_list:\n",
    "        flag=0\n",
    "        for j in each_g_list:\n",
    "            if(j>i):\n",
    "                wins+=1\n",
    "                flag=1\n",
    "                each_g_list.remove(j)\n",
    "                break\n",
    "        if flag==0:\n",
    "            mini=min(each_g_list)\n",
    "            each_g_list.remove(min(each_g_list))\n",
    "    return wins\n",
    "            \n",
    "        \n",
    "beyblade()      \n",
    "                                "
   ]
  },
  {
   "cell_type": "code",
   "execution_count": null,
   "metadata": {},
   "outputs": [],
   "source": []
  }
 ],
 "metadata": {
  "kernelspec": {
   "display_name": "Python 3",
   "language": "python",
   "name": "python3"
  },
  "language_info": {
   "codemirror_mode": {
    "name": "ipython",
    "version": 3
   },
   "file_extension": ".py",
   "mimetype": "text/x-python",
   "name": "python",
   "nbconvert_exporter": "python",
   "pygments_lexer": "ipython3",
   "version": "3.8.2"
  }
 },
 "nbformat": 4,
 "nbformat_minor": 4
}
